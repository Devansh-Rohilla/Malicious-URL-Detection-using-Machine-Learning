{
 "cells": [
  {
   "cell_type": "code",
   "execution_count": 1,
   "id": "5119305a",
   "metadata": {},
   "outputs": [
    {
     "name": "stdout",
     "output_type": "stream",
     "text": [
      "Accuracy  0.9620068019121459\n"
     ]
    }
   ],
   "source": [
    "import tkinter as tk\n",
    "import pandas as pd\n",
    "from sklearn.linear_model import LogisticRegression\n",
    "from sklearn.model_selection import train_test_split\n",
    "from sklearn.feature_extraction.text import TfidfVectorizer\n",
    "\n",
    "# Read the data from the CSV file\n",
    "urls_data = pd.read_csv(\"urldata.csv\")\n",
    "\n",
    "def makeTokens(f):\n",
    "    tkns_BySlash = str(f.encode('utf-8')).split('/')  # make tokens after splitting by slash\n",
    "    total_Tokens = []\n",
    "\n",
    "    for i in tkns_BySlash:\n",
    "        tokens = str(i).split('-')  # make tokens after splitting by dash\n",
    "        tkns_ByDot = []\n",
    "\n",
    "        for j in range(0, len(tokens)):\n",
    "            temp_Tokens = str(tokens[j]).split('.')  # make tokens after splitting by dot\n",
    "            tkns_ByDot = tkns_ByDot + temp_Tokens\n",
    "        total_Tokens = total_Tokens + tokens + tkns_ByDot\n",
    "\n",
    "    total_Tokens = list(set(total_Tokens))  # remove redundant tokens\n",
    "\n",
    "    if 'com' in total_Tokens:\n",
    "        total_Tokens.remove('com')  # removing .com since it occurs a lot of times and should not be included in our features\n",
    " \n",
    "    return total_Tokens\n",
    "\n",
    "# Create the vectorizer\n",
    "vectorizer = TfidfVectorizer(tokenizer=makeTokens)\n",
    "\n",
    "# Extract features and labels from the data\n",
    "url_list = urls_data[\"url\"]\n",
    "y = urls_data[\"label\"]\n",
    "\n",
    "# Transform the URLs into numerical representation\n",
    "X = vectorizer.fit_transform(url_list)\n",
    "\n",
    "# Split the data into training and testing sets\n",
    "X_train, X_test, y_train, y_test = train_test_split(X, y, test_size=0.2, random_state=42)  \n",
    "\n",
    "# Create and train the logistic regression model\n",
    "logit = LogisticRegression(solver='sag')\n",
    "logit.fit(X_train, y_train)\n",
    "print(\"Accuracy \",logit.score(X_test, y_test))\n",
    "\n",
    "# Function to handle the button click event\n",
    "def predict_url():\n",
    "    user_input = entry.get()\n",
    "    user_input = [user_input]\n",
    "    user_input = vectorizer.transform(user_input)\n",
    "    prediction = logit.predict(user_input)\n",
    "    result_label.configure(text=f\"Prediction: {prediction[0]}\")\n",
    "\n",
    "# Create the GUI window\n",
    "window = tk.Tk()\n",
    "window.title(\"URL Classification\")\n",
    "window.geometry(\"800x500\")\n",
    "f1=tk.Frame(window,bg='light green',borderwidth=10,relief=\"sunken\")\n",
    "f1.pack(side=\"bottom\",fill=\"x\")\n",
    "lable=tk.Label(f1, text=\"PROJECT ON MALICIOUS URL DETECTION\",bg='pink',borderwidth=5,relief=\"groove\")\n",
    "lable.pack(pady= 10,padx=100)\n",
    "# Create the input label and entry field\n",
    "label = tk.Label(window, text=\"Enter URL:\",bg='yellow',relief=\"groove\",borderwidth=15)\n",
    "label.pack()\n",
    "entry = tk.Entry(window)\n",
    "entry.pack()\n",
    "\n",
    "# Create the prediction button\n",
    "button = tk.Button(window, text=\"Predict\",fg='red',command=predict_url)\n",
    "button.pack(padx=60)\n",
    "\n",
    "# Create the label to display the prediction result\n",
    "result_label = tk.Label(window, text=\"\",bg=\"light blue\",borderwidth=10,relief=\"sunken\")\n",
    "result_label.pack()\n",
    "\n",
    "# Start the GUI event loop\n",
    "window.mainloop()\n",
    "\n"
   ]
  },
  {
   "cell_type": "code",
   "execution_count": null,
   "id": "3bbeecfc",
   "metadata": {},
   "outputs": [],
   "source": []
  },
  {
   "cell_type": "code",
   "execution_count": null,
   "id": "8d0e3736",
   "metadata": {},
   "outputs": [],
   "source": []
  },
  {
   "cell_type": "code",
   "execution_count": null,
   "id": "6987f01d",
   "metadata": {},
   "outputs": [],
   "source": []
  },
  {
   "cell_type": "code",
   "execution_count": null,
   "id": "664e44a9",
   "metadata": {},
   "outputs": [],
   "source": []
  },
  {
   "cell_type": "code",
   "execution_count": null,
   "id": "cff80209",
   "metadata": {},
   "outputs": [],
   "source": []
  },
  {
   "cell_type": "code",
   "execution_count": null,
   "id": "a72ff29d",
   "metadata": {},
   "outputs": [],
   "source": []
  }
 ],
 "metadata": {
  "kernelspec": {
   "display_name": "Python 3 (ipykernel)",
   "language": "python",
   "name": "python3"
  },
  "language_info": {
   "codemirror_mode": {
    "name": "ipython",
    "version": 3
   },
   "file_extension": ".py",
   "mimetype": "text/x-python",
   "name": "python",
   "nbconvert_exporter": "python",
   "pygments_lexer": "ipython3",
   "version": "3.9.12"
  }
 },
 "nbformat": 4,
 "nbformat_minor": 5
}
